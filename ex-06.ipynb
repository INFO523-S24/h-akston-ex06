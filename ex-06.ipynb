{
 "cells": [
  {
   "cell_type": "code",
   "execution_count": null,
   "metadata": {},
   "outputs": [],
   "source": [
    "---\n",
    "  title: \"EX 06\"\n",
    "  author: \"Maksim Kulik\"\n",
    "  format:\n",
    "    html:\n",
    "      embed-resources: true\n",
    "  toc: true\n",
    "  jupyter: python3\n",
    "  ---"
   ]
  },
  {
   "cell_type": "markdown",
   "metadata": {},
   "source": [
    "## Step 1: Setup and Data Preprocessing\n",
    "\n",
    "- Start by importing the necessary libraries and load the spam.csv dataset.\n",
    "\n",
    "- Preprocess the data by encoding categorical variables, defining features and target, and splitting the data into training and testing sets. Finally, apply PCA to reduce dimensionality."
   ]
  },
  {
   "cell_type": "markdown",
   "metadata": {},
   "source": [
    "### Importing the libraries"
   ]
  },
  {
   "cell_type": "code",
   "execution_count": 1,
   "metadata": {},
   "outputs": [],
   "source": [
    "import numpy as np\n",
    "import pandas as pd\n",
    "import seaborn as sns\n",
    "from sklearn.preprocessing import MinMaxScaler\n",
    "\n",
    "sns.set(font_scale = 1.25)\n",
    "sns.set_style(\"white\")\n"
   ]
  },
  {
   "cell_type": "markdown",
   "metadata": {},
   "source": [
    "### Data overview"
   ]
  },
  {
   "cell_type": "code",
   "execution_count": 2,
   "metadata": {},
   "outputs": [
    {
     "name": "stdout",
     "output_type": "stream",
     "text": [
      "First 5 rows:\n",
      "   crl.tot  dollar   bang  money  n000  make yesno\n",
      "0      278   0.000  0.778   0.00  0.00  0.00     y\n",
      "1     1028   0.180  0.372   0.43  0.43  0.21     y\n",
      "2     2259   0.184  0.276   0.06  1.16  0.06     y\n",
      "3      191   0.000  0.137   0.00  0.00  0.00     y\n",
      "4      191   0.000  0.135   0.00  0.00  0.00     y\n",
      "\n",
      "Data types:\n",
      "crl.tot      int64\n",
      "dollar     float64\n",
      "bang       float64\n",
      "money      float64\n",
      "n000       float64\n",
      "make       float64\n",
      "yesno       object\n",
      "dtype: object\n",
      "\n",
      "The dataset contains 4601 rows and 7 columns.\n"
     ]
    }
   ],
   "source": [
    "data = pd.read_csv('data/spam.csv')\n",
    "print(f'First 5 rows:\\n{data.head()}', f'Data types:\\n{data.dtypes}', f'The dataset contains {data.shape[0]} rows and {data.shape[1]} columns.', sep='\\n\\n')"
   ]
  },
  {
   "cell_type": "markdown",
   "metadata": {},
   "source": [
    "## Step 2: Model Training and Decision Boundary Visualization\n",
    "\n",
    "- Train a Decision Tree classifier on the PCA-transformed training data.\n",
    "\n",
    "- Implement and use the `decisionplot` function (from the lecture) to visualize the decision boundary of your trained model."
   ]
  },
  {
   "cell_type": "code",
   "execution_count": null,
   "metadata": {},
   "outputs": [],
   "source": []
  },
  {
   "cell_type": "markdown",
   "metadata": {},
   "source": [
    "## Step 3: Model Evaluation\n",
    "\n",
    "- Evaluate your model using accuracy, precision, recall, F1 score, and AUC-ROC metrics."
   ]
  },
  {
   "cell_type": "markdown",
   "metadata": {},
   "source": [
    "## Assignment:\n",
    "- Implement the missing parts of the code: the decisionplot function and AUC-ROC calculation.\n",
    "\n",
    "- Discuss the results among your peers. Consider the following:\n",
    "\n",
    "    - Which metric is most informative for this problem and why?\n",
    "\n",
    "    - How does the decision boundary visualization help in understanding the model’s performance?\n",
    "\n",
    "    - Reflect on the impact of PCA on model performance and decision boundary.\n",
    "\n"
   ]
  }
 ],
 "metadata": {
  "kernelspec": {
   "display_name": "Python 3",
   "language": "python",
   "name": "python3"
  },
  "language_info": {
   "codemirror_mode": {
    "name": "ipython",
    "version": 3
   },
   "file_extension": ".py",
   "mimetype": "text/x-python",
   "name": "python",
   "nbconvert_exporter": "python",
   "pygments_lexer": "ipython3",
   "version": "3.11.4"
  }
 },
 "nbformat": 4,
 "nbformat_minor": 2
}
